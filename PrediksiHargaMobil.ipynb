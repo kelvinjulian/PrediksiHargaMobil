{
 "cells": [
  {
   "cell_type": "markdown",
   "metadata": {},
   "source": [
    "## Import Library"
   ]
  },
  {
   "cell_type": "code",
   "execution_count": 1,
   "metadata": {},
   "outputs": [],
   "source": [
    "import pandas as pd\n",
    "import numpy as np\n",
    "import matplotlib.pyplot as plt\n",
    "import seaborn as sns"
   ]
  },
  {
   "cell_type": "markdown",
   "metadata": {},
   "source": [
    "## Import Data"
   ]
  },
  {
   "cell_type": "code",
   "execution_count": 2,
   "metadata": {},
   "outputs": [
    {
     "data": {
      "text/html": [
       "<div>\n",
       "<style scoped>\n",
       "    .dataframe tbody tr th:only-of-type {\n",
       "        vertical-align: middle;\n",
       "    }\n",
       "\n",
       "    .dataframe tbody tr th {\n",
       "        vertical-align: top;\n",
       "    }\n",
       "\n",
       "    .dataframe thead th {\n",
       "        text-align: right;\n",
       "    }\n",
       "</style>\n",
       "<table border=\"1\" class=\"dataframe\">\n",
       "  <thead>\n",
       "    <tr style=\"text-align: right;\">\n",
       "      <th></th>\n",
       "      <th>model</th>\n",
       "      <th>year</th>\n",
       "      <th>price</th>\n",
       "      <th>transmission</th>\n",
       "      <th>mileage</th>\n",
       "      <th>fuelType</th>\n",
       "      <th>tax</th>\n",
       "      <th>mpg</th>\n",
       "      <th>engineSize</th>\n",
       "    </tr>\n",
       "  </thead>\n",
       "  <tbody>\n",
       "    <tr>\n",
       "      <th>0</th>\n",
       "      <td>GT86</td>\n",
       "      <td>2016</td>\n",
       "      <td>16000</td>\n",
       "      <td>Manual</td>\n",
       "      <td>24089</td>\n",
       "      <td>Petrol</td>\n",
       "      <td>265</td>\n",
       "      <td>36.2</td>\n",
       "      <td>2.0</td>\n",
       "    </tr>\n",
       "    <tr>\n",
       "      <th>1</th>\n",
       "      <td>GT86</td>\n",
       "      <td>2017</td>\n",
       "      <td>15995</td>\n",
       "      <td>Manual</td>\n",
       "      <td>18615</td>\n",
       "      <td>Petrol</td>\n",
       "      <td>145</td>\n",
       "      <td>36.2</td>\n",
       "      <td>2.0</td>\n",
       "    </tr>\n",
       "    <tr>\n",
       "      <th>2</th>\n",
       "      <td>GT86</td>\n",
       "      <td>2015</td>\n",
       "      <td>13998</td>\n",
       "      <td>Manual</td>\n",
       "      <td>27469</td>\n",
       "      <td>Petrol</td>\n",
       "      <td>265</td>\n",
       "      <td>36.2</td>\n",
       "      <td>2.0</td>\n",
       "    </tr>\n",
       "    <tr>\n",
       "      <th>3</th>\n",
       "      <td>GT86</td>\n",
       "      <td>2017</td>\n",
       "      <td>18998</td>\n",
       "      <td>Manual</td>\n",
       "      <td>14736</td>\n",
       "      <td>Petrol</td>\n",
       "      <td>150</td>\n",
       "      <td>36.2</td>\n",
       "      <td>2.0</td>\n",
       "    </tr>\n",
       "    <tr>\n",
       "      <th>4</th>\n",
       "      <td>GT86</td>\n",
       "      <td>2017</td>\n",
       "      <td>17498</td>\n",
       "      <td>Manual</td>\n",
       "      <td>36284</td>\n",
       "      <td>Petrol</td>\n",
       "      <td>145</td>\n",
       "      <td>36.2</td>\n",
       "      <td>2.0</td>\n",
       "    </tr>\n",
       "    <tr>\n",
       "      <th>...</th>\n",
       "      <td>...</td>\n",
       "      <td>...</td>\n",
       "      <td>...</td>\n",
       "      <td>...</td>\n",
       "      <td>...</td>\n",
       "      <td>...</td>\n",
       "      <td>...</td>\n",
       "      <td>...</td>\n",
       "      <td>...</td>\n",
       "    </tr>\n",
       "    <tr>\n",
       "      <th>6733</th>\n",
       "      <td>IQ</td>\n",
       "      <td>2011</td>\n",
       "      <td>5500</td>\n",
       "      <td>Automatic</td>\n",
       "      <td>30000</td>\n",
       "      <td>Petrol</td>\n",
       "      <td>20</td>\n",
       "      <td>58.9</td>\n",
       "      <td>1.0</td>\n",
       "    </tr>\n",
       "    <tr>\n",
       "      <th>6734</th>\n",
       "      <td>Urban Cruiser</td>\n",
       "      <td>2011</td>\n",
       "      <td>4985</td>\n",
       "      <td>Manual</td>\n",
       "      <td>36154</td>\n",
       "      <td>Petrol</td>\n",
       "      <td>125</td>\n",
       "      <td>50.4</td>\n",
       "      <td>1.3</td>\n",
       "    </tr>\n",
       "    <tr>\n",
       "      <th>6735</th>\n",
       "      <td>Urban Cruiser</td>\n",
       "      <td>2012</td>\n",
       "      <td>4995</td>\n",
       "      <td>Manual</td>\n",
       "      <td>46000</td>\n",
       "      <td>Diesel</td>\n",
       "      <td>125</td>\n",
       "      <td>57.6</td>\n",
       "      <td>1.4</td>\n",
       "    </tr>\n",
       "    <tr>\n",
       "      <th>6736</th>\n",
       "      <td>Urban Cruiser</td>\n",
       "      <td>2011</td>\n",
       "      <td>3995</td>\n",
       "      <td>Manual</td>\n",
       "      <td>60700</td>\n",
       "      <td>Petrol</td>\n",
       "      <td>125</td>\n",
       "      <td>50.4</td>\n",
       "      <td>1.3</td>\n",
       "    </tr>\n",
       "    <tr>\n",
       "      <th>6737</th>\n",
       "      <td>Urban Cruiser</td>\n",
       "      <td>2011</td>\n",
       "      <td>4495</td>\n",
       "      <td>Manual</td>\n",
       "      <td>45128</td>\n",
       "      <td>Petrol</td>\n",
       "      <td>125</td>\n",
       "      <td>50.4</td>\n",
       "      <td>1.3</td>\n",
       "    </tr>\n",
       "  </tbody>\n",
       "</table>\n",
       "<p>6738 rows × 9 columns</p>\n",
       "</div>"
      ],
      "text/plain": [
       "               model  year  price transmission  mileage fuelType  tax   mpg  \\\n",
       "0               GT86  2016  16000       Manual    24089   Petrol  265  36.2   \n",
       "1               GT86  2017  15995       Manual    18615   Petrol  145  36.2   \n",
       "2               GT86  2015  13998       Manual    27469   Petrol  265  36.2   \n",
       "3               GT86  2017  18998       Manual    14736   Petrol  150  36.2   \n",
       "4               GT86  2017  17498       Manual    36284   Petrol  145  36.2   \n",
       "...              ...   ...    ...          ...      ...      ...  ...   ...   \n",
       "6733              IQ  2011   5500    Automatic    30000   Petrol   20  58.9   \n",
       "6734   Urban Cruiser  2011   4985       Manual    36154   Petrol  125  50.4   \n",
       "6735   Urban Cruiser  2012   4995       Manual    46000   Diesel  125  57.6   \n",
       "6736   Urban Cruiser  2011   3995       Manual    60700   Petrol  125  50.4   \n",
       "6737   Urban Cruiser  2011   4495       Manual    45128   Petrol  125  50.4   \n",
       "\n",
       "      engineSize  \n",
       "0            2.0  \n",
       "1            2.0  \n",
       "2            2.0  \n",
       "3            2.0  \n",
       "4            2.0  \n",
       "...          ...  \n",
       "6733         1.0  \n",
       "6734         1.3  \n",
       "6735         1.4  \n",
       "6736         1.3  \n",
       "6737         1.3  \n",
       "\n",
       "[6738 rows x 9 columns]"
      ]
     },
     "execution_count": 2,
     "metadata": {},
     "output_type": "execute_result"
    }
   ],
   "source": [
    "df = pd.read_csv('data/toyota.csv')\n",
    "df"
   ]
  },
  {
   "cell_type": "markdown",
   "metadata": {},
   "source": [
    "## 1. Data Understanding"
   ]
  },
  {
   "cell_type": "code",
   "execution_count": 3,
   "metadata": {},
   "outputs": [
    {
     "data": {
      "text/plain": [
       "array([' GT86', ' Corolla', ' RAV4', ' Yaris', ' Auris', ' Aygo', ' C-HR',\n",
       "       ' Prius', ' Avensis', ' Verso', ' Hilux', ' PROACE VERSO',\n",
       "       ' Land Cruiser', ' Supra', ' Camry', ' Verso-S', ' IQ',\n",
       "       ' Urban Cruiser'], dtype=object)"
      ]
     },
     "execution_count": 3,
     "metadata": {},
     "output_type": "execute_result"
    }
   ],
   "source": [
    "# untuk melihat jenis model mobil toyota apa saja yang ada\n",
    "df['model'].unique()"
   ]
  },
  {
   "cell_type": "code",
   "execution_count": 4,
   "metadata": {},
   "outputs": [
    {
     "name": "stdout",
     "output_type": "stream",
     "text": [
      "<class 'pandas.core.frame.DataFrame'>\n",
      "RangeIndex: 6738 entries, 0 to 6737\n",
      "Data columns (total 9 columns):\n",
      " #   Column        Non-Null Count  Dtype  \n",
      "---  ------        --------------  -----  \n",
      " 0   model         6738 non-null   object \n",
      " 1   year          6738 non-null   int64  \n",
      " 2   price         6738 non-null   int64  \n",
      " 3   transmission  6738 non-null   object \n",
      " 4   mileage       6738 non-null   int64  \n",
      " 5   fuelType      6738 non-null   object \n",
      " 6   tax           6738 non-null   int64  \n",
      " 7   mpg           6738 non-null   float64\n",
      " 8   engineSize    6738 non-null   float64\n",
      "dtypes: float64(2), int64(4), object(3)\n",
      "memory usage: 473.9+ KB\n"
     ]
    }
   ],
   "source": [
    "# untuk melihat tipe data apa saja yang ada dalam data, kita hanya akan menggunakan tipedata berbentuk angka, sehingga yang lain akan dilakukan label encoding\n",
    "df.info()"
   ]
  },
  {
   "cell_type": "code",
   "execution_count": 5,
   "metadata": {},
   "outputs": [
    {
     "data": {
      "text/plain": [
       "(6738, 9)"
      ]
     },
     "execution_count": 5,
     "metadata": {},
     "output_type": "execute_result"
    }
   ],
   "source": [
    "df.shape"
   ]
  },
  {
   "cell_type": "markdown",
   "metadata": {},
   "source": [
    "## 2. Cleaning Data"
   ]
  },
  {
   "cell_type": "code",
   "execution_count": 6,
   "metadata": {},
   "outputs": [
    {
     "data": {
      "text/plain": [
       "model           0\n",
       "year            0\n",
       "price           0\n",
       "transmission    0\n",
       "mileage         0\n",
       "fuelType        0\n",
       "tax             0\n",
       "mpg             0\n",
       "engineSize      0\n",
       "dtype: int64"
      ]
     },
     "execution_count": 6,
     "metadata": {},
     "output_type": "execute_result"
    }
   ],
   "source": [
    "# melihat apakah ada data yang kosong\n",
    "df.isnull().sum()"
   ]
  },
  {
   "cell_type": "code",
   "execution_count": 7,
   "metadata": {},
   "outputs": [
    {
     "data": {
      "text/plain": [
       "39"
      ]
     },
     "execution_count": 7,
     "metadata": {},
     "output_type": "execute_result"
    }
   ],
   "source": [
    "# melihat apakah ada data duplicate\n",
    "df.duplicated().sum()"
   ]
  },
  {
   "cell_type": "code",
   "execution_count": 8,
   "metadata": {},
   "outputs": [],
   "source": [
    "# karena ada data yang terduplikasi, maka kita akan menghapusnya\n",
    "df = df.drop_duplicates()"
   ]
  },
  {
   "cell_type": "code",
   "execution_count": 9,
   "metadata": {},
   "outputs": [
    {
     "data": {
      "text/plain": [
       "(6699, 9)"
      ]
     },
     "execution_count": 9,
     "metadata": {},
     "output_type": "execute_result"
    }
   ],
   "source": [
    "# melihat jumlah baris data setelah dicleaning\n",
    "df.shape"
   ]
  },
  {
   "cell_type": "markdown",
   "metadata": {},
   "source": [
    "## 3. Expoloratory Data Analysis (EDA)"
   ]
  },
  {
   "cell_type": "code",
   "execution_count": 10,
   "metadata": {},
   "outputs": [
    {
     "name": "stdout",
     "output_type": "stream",
     "text": [
      "model            object\n",
      "year              int64\n",
      "price             int64\n",
      "transmission     object\n",
      "mileage           int64\n",
      "fuelType         object\n",
      "tax               int64\n",
      "mpg             float64\n",
      "engineSize      float64\n",
      "dtype: object\n"
     ]
    }
   ],
   "source": [
    "print(df.dtypes)\n"
   ]
  },
  {
   "cell_type": "code",
   "execution_count": 11,
   "metadata": {},
   "outputs": [
    {
     "data": {
      "image/png": "[encoded data removed]",
      "text/plain": [
       "<Figure size 1000x800 with 2 Axes>"
      ]
     },
     "metadata": {},
     "output_type": "display_data"
    }
   ],
   "source": [
    "# Memilih hanya kolom numerik dari dataframe\n",
    "numeric_df = df.select_dtypes(include=[np.number])\n",
    "\n",
    "# Membuat kanvas untuk visualisasi dengan ukuran 10x8\n",
    "plt.figure(figsize=(10, 8))\n",
    "\n",
    "# Membuat heatmap untuk menampilkan matriks korelasi antara kolom numerik\n",
    "# annot=True menambahkan nilai korelasi ke dalam setiap sel heatmap\n",
    "# cmap='coolwarm' memberikan skema warna yang membantu membedakan nilai korelasi positif dan negatif\n",
    "sns.heatmap(numeric_df.corr(), annot=True, cmap='coolwarm')\n",
    "\n",
    "# Menambahkan judul pada heatmap\n",
    "plt.title('Heatmap Korelasi')\n",
    "\n",
    "# Menampilkan heatmap ke layar\n",
    "plt.show()\n"
   ]
  },
  {
   "cell_type": "markdown",
   "metadata": {},
   "source": [
    "jika korelasi bernilai 1 atau mendekati 1 maka korelasi dari atribut tersebut =bernilai baik dan bisa dilanjutkan untuk proses berikutnya, namun jika korelasinya bernilai negatif maka korelasi dari atribut tersebut tidak baik atau tidak ada kaitan"
   ]
  },
  {
   "cell_type": "code",
   "execution_count": 12,
   "metadata": {},
   "outputs": [
    {
     "data": {
      "image/png": "[encoded data removed]",
      "text/plain": [
       "<Figure size 1000x600 with 1 Axes>"
      ]
     },
     "metadata": {},
     "output_type": "display_data"
    }
   ],
   "source": [
    "# melihat jenis kendaraan toyota apa yang paling banyak :\n",
    "jumlah_kendaraan = df['model'].value_counts()\n",
    "\n",
    "plt.figure(figsize=(10, 6))\n",
    "jumlah_kendaraan.plot(kind='bar', color='skyblue')\n",
    "plt.xlabel('Model Kendaraan')\n",
    "plt.ylabel('Jumlah Kendaraan')\n",
    "plt.title('Jumlah Kendaraan Toyota Berdasarkan Model')\n",
    "plt.show()"
   ]
  },
  {
   "cell_type": "code",
   "execution_count": 13,
   "metadata": {},
   "outputs": [
    {
     "data": {
      "text/plain": [
       "<seaborn.axisgrid.FacetGrid at 0x1fd21eb7c80>"
      ]
     },
     "execution_count": 13,
     "metadata": {},
     "output_type": "execute_result"
    },
    {
     "data": {
      "text/plain": [
       "<Figure size 1000x600 with 0 Axes>"
      ]
     },
     "metadata": {},
     "output_type": "display_data"
    },
    {
     "data": {
      "image/png": "[encoded data removed]",
      "text/plain": [
       "<Figure size 500x500 with 1 Axes>"
      ]
     },
     "metadata": {},
     "output_type": "display_data"
    }
   ],
   "source": [
    "# Visualisasi terhadap harga penjualan dari tiap tiap mobil\n",
    "\n",
    "plt.figure(figsize=(10, 6))\n",
    "sns.displot(df['price'], kde=True)"
   ]
  },
  {
   "cell_type": "code",
   "execution_count": 14,
   "metadata": {},
   "outputs": [
    {
     "name": "stderr",
     "output_type": "stream",
     "text": [
      "C:\\Users\\LEGION SLIM 7\\AppData\\Local\\Temp\\ipykernel_27336\\2383604972.py:5: SettingWithCopyWarning: \n",
      "A value is trying to be set on a copy of a slice from a DataFrame.\n",
      "Try using .loc[row_indexer,col_indexer] = value instead\n",
      "\n",
      "See the caveats in the documentation: https://pandas.pydata.org/pandas-docs/stable/user_guide/indexing.html#returning-a-view-versus-a-copy\n",
      "  df['price'] = df['price'] * nilai_tukar_euro_ke_rupiah\n",
      "C:\\Users\\LEGION SLIM 7\\AppData\\Local\\Temp\\ipykernel_27336\\2383604972.py:6: SettingWithCopyWarning: \n",
      "A value is trying to be set on a copy of a slice from a DataFrame.\n",
      "Try using .loc[row_indexer,col_indexer] = value instead\n",
      "\n",
      "See the caveats in the documentation: https://pandas.pydata.org/pandas-docs/stable/user_guide/indexing.html#returning-a-view-versus-a-copy\n",
      "  df['tax'] = df['tax'] * nilai_tukar_euro_ke_rupiah\n"
     ]
    }
   ],
   "source": [
    "# mengubah mata uang euro menjadi rupiah (06 Desember 2024, 1 euro = 16735 rupiah)\n",
    "\n",
    "nilai_tukar_euro_ke_rupiah = 16735\n",
    "\n",
    "df['price'] = df['price'] * nilai_tukar_euro_ke_rupiah\n",
    "df['tax'] = df['tax'] * nilai_tukar_euro_ke_rupiah"
   ]
  },
  {
   "cell_type": "code",
   "execution_count": 18,
   "metadata": {},
   "outputs": [
    {
     "data": {
      "text/html": [
       "<div>\n",
       "<style scoped>\n",
       "    .dataframe tbody tr th:only-of-type {\n",
       "        vertical-align: middle;\n",
       "    }\n",
       "\n",
       "    .dataframe tbody tr th {\n",
       "        vertical-align: top;\n",
       "    }\n",
       "\n",
       "    .dataframe thead th {\n",
       "        text-align: right;\n",
       "    }\n",
       "</style>\n",
       "<table border=\"1\" class=\"dataframe\">\n",
       "  <thead>\n",
       "    <tr style=\"text-align: right;\">\n",
       "      <th></th>\n",
       "      <th>model</th>\n",
       "      <th>year</th>\n",
       "      <th>price</th>\n",
       "      <th>transmission</th>\n",
       "      <th>mileage</th>\n",
       "      <th>fuelType</th>\n",
       "      <th>tax</th>\n",
       "      <th>mpg</th>\n",
       "      <th>engineSize</th>\n",
       "    </tr>\n",
       "  </thead>\n",
       "  <tbody>\n",
       "    <tr>\n",
       "      <th>3399</th>\n",
       "      <td>Auris</td>\n",
       "      <td>2016</td>\n",
       "      <td>162613995</td>\n",
       "      <td>Manual</td>\n",
       "      <td>31280</td>\n",
       "      <td>Petrol</td>\n",
       "      <td>502050</td>\n",
       "      <td>58.9</td>\n",
       "      <td>1.2</td>\n",
       "    </tr>\n",
       "    <tr>\n",
       "      <th>4057</th>\n",
       "      <td>Aygo</td>\n",
       "      <td>2016</td>\n",
       "      <td>125428825</td>\n",
       "      <td>Manual</td>\n",
       "      <td>9601</td>\n",
       "      <td>Petrol</td>\n",
       "      <td>0</td>\n",
       "      <td>69.0</td>\n",
       "      <td>1.0</td>\n",
       "    </tr>\n",
       "    <tr>\n",
       "      <th>3053</th>\n",
       "      <td>Auris</td>\n",
       "      <td>2016</td>\n",
       "      <td>217521530</td>\n",
       "      <td>Automatic</td>\n",
       "      <td>46162</td>\n",
       "      <td>Hybrid</td>\n",
       "      <td>0</td>\n",
       "      <td>78.5</td>\n",
       "      <td>1.8</td>\n",
       "    </tr>\n",
       "    <tr>\n",
       "      <th>6604</th>\n",
       "      <td>Hilux</td>\n",
       "      <td>2018</td>\n",
       "      <td>322952030</td>\n",
       "      <td>Manual</td>\n",
       "      <td>24775</td>\n",
       "      <td>Diesel</td>\n",
       "      <td>4351100</td>\n",
       "      <td>40.4</td>\n",
       "      <td>2.4</td>\n",
       "    </tr>\n",
       "    <tr>\n",
       "      <th>186</th>\n",
       "      <td>Corolla</td>\n",
       "      <td>2019</td>\n",
       "      <td>392352075</td>\n",
       "      <td>Automatic</td>\n",
       "      <td>5558</td>\n",
       "      <td>Hybrid</td>\n",
       "      <td>2259225</td>\n",
       "      <td>78.5</td>\n",
       "      <td>1.8</td>\n",
       "    </tr>\n",
       "  </tbody>\n",
       "</table>\n",
       "</div>"
      ],
      "text/plain": [
       "         model  year      price transmission  mileage fuelType      tax   mpg  \\\n",
       "3399     Auris  2016  162613995       Manual    31280   Petrol   502050  58.9   \n",
       "4057      Aygo  2016  125428825       Manual     9601   Petrol        0  69.0   \n",
       "3053     Auris  2016  217521530    Automatic    46162   Hybrid        0  78.5   \n",
       "6604     Hilux  2018  322952030       Manual    24775   Diesel  4351100  40.4   \n",
       "186    Corolla  2019  392352075    Automatic     5558   Hybrid  2259225  78.5   \n",
       "\n",
       "      engineSize  \n",
       "3399         1.2  \n",
       "4057         1.0  \n",
       "3053         1.8  \n",
       "6604         2.4  \n",
       "186          1.8  "
      ]
     },
     "execution_count": 18,
     "metadata": {},
     "output_type": "execute_result"
    }
   ],
   "source": [
    "df.sample(5)\n",
    "# df[df['mileage'] == 11424]"
   ]
  },
  {
   "cell_type": "markdown",
   "metadata": {},
   "source": [
    "## 4. Label Encoder"
   ]
  },
  {
   "cell_type": "markdown",
   "metadata": {},
   "source": [
    "Kegunaan label endoder adalah untuk mengubah data yang memiliki tipedata object menjadi tipedata angka"
   ]
  },
  {
   "cell_type": "code",
   "execution_count": 19,
   "metadata": {},
   "outputs": [
    {
     "name": "stdout",
     "output_type": "stream",
     "text": [
      "<class 'pandas.core.frame.DataFrame'>\n",
      "Index: 6699 entries, 0 to 6737\n",
      "Data columns (total 9 columns):\n",
      " #   Column        Non-Null Count  Dtype  \n",
      "---  ------        --------------  -----  \n",
      " 0   model         6699 non-null   object \n",
      " 1   year          6699 non-null   int64  \n",
      " 2   price         6699 non-null   int64  \n",
      " 3   transmission  6699 non-null   object \n",
      " 4   mileage       6699 non-null   int64  \n",
      " 5   fuelType      6699 non-null   object \n",
      " 6   tax           6699 non-null   int64  \n",
      " 7   mpg           6699 non-null   float64\n",
      " 8   engineSize    6699 non-null   float64\n",
      "dtypes: float64(2), int64(4), object(3)\n",
      "memory usage: 523.4+ KB\n"
     ]
    }
   ],
   "source": [
    "df.info()"
   ]
  },
  {
   "cell_type": "markdown",
   "metadata": {},
   "source": [
    "di sini terlihat ada 3 atribut yang memiliki tipedata object, kita akan ubah menjadi angka"
   ]
  },
  {
   "cell_type": "code",
   "execution_count": 20,
   "metadata": {},
   "outputs": [
    {
     "name": "stderr",
     "output_type": "stream",
     "text": [
      "C:\\Users\\LEGION SLIM 7\\AppData\\Local\\Temp\\ipykernel_27336\\2532846835.py:9: SettingWithCopyWarning: \n",
      "A value is trying to be set on a copy of a slice from a DataFrame.\n",
      "Try using .loc[row_indexer,col_indexer] = value instead\n",
      "\n",
      "See the caveats in the documentation: https://pandas.pydata.org/pandas-docs/stable/user_guide/indexing.html#returning-a-view-versus-a-copy\n",
      "  df['model'] = m_endoder.fit_transform(df['model'])\n",
      "C:\\Users\\LEGION SLIM 7\\AppData\\Local\\Temp\\ipykernel_27336\\2532846835.py:10: SettingWithCopyWarning: \n",
      "A value is trying to be set on a copy of a slice from a DataFrame.\n",
      "Try using .loc[row_indexer,col_indexer] = value instead\n",
      "\n",
      "See the caveats in the documentation: https://pandas.pydata.org/pandas-docs/stable/user_guide/indexing.html#returning-a-view-versus-a-copy\n",
      "  df['transmission'] = t_endoder.fit_transform(df['transmission'])\n",
      "C:\\Users\\LEGION SLIM 7\\AppData\\Local\\Temp\\ipykernel_27336\\2532846835.py:11: SettingWithCopyWarning: \n",
      "A value is trying to be set on a copy of a slice from a DataFrame.\n",
      "Try using .loc[row_indexer,col_indexer] = value instead\n",
      "\n",
      "See the caveats in the documentation: https://pandas.pydata.org/pandas-docs/stable/user_guide/indexing.html#returning-a-view-versus-a-copy\n",
      "  df['fuelType'] = f_endoder.fit_transform(df['fuelType'])\n"
     ]
    }
   ],
   "source": [
    "from sklearn.preprocessing import LabelEncoder\n",
    "\n",
    "# m, t, dan f adalah model, transmission, dan fueltype\n",
    "m_endoder = LabelEncoder()\n",
    "t_endoder = LabelEncoder()\n",
    "f_endoder = LabelEncoder()\n",
    "\n",
    "# Melakukan label encoding pada kolom-kolom yang memiliki tipe data string\n",
    "df['model'] = m_endoder.fit_transform(df['model'])\n",
    "df['transmission'] = t_endoder.fit_transform(df['transmission'])\n",
    "df['fuelType'] = f_endoder.fit_transform(df['fuelType'])"
   ]
  },
  {
   "cell_type": "code",
   "execution_count": 22,
   "metadata": {},
   "outputs": [
    {
     "data": {
      "text/html": [
       "<div>\n",
       "<style scoped>\n",
       "    .dataframe tbody tr th:only-of-type {\n",
       "        vertical-align: middle;\n",
       "    }\n",
       "\n",
       "    .dataframe tbody tr th {\n",
       "        vertical-align: top;\n",
       "    }\n",
       "\n",
       "    .dataframe thead th {\n",
       "        text-align: right;\n",
       "    }\n",
       "</style>\n",
       "<table border=\"1\" class=\"dataframe\">\n",
       "  <thead>\n",
       "    <tr style=\"text-align: right;\">\n",
       "      <th></th>\n",
       "      <th>model</th>\n",
       "      <th>year</th>\n",
       "      <th>price</th>\n",
       "      <th>transmission</th>\n",
       "      <th>mileage</th>\n",
       "      <th>fuelType</th>\n",
       "      <th>tax</th>\n",
       "      <th>mpg</th>\n",
       "      <th>engineSize</th>\n",
       "    </tr>\n",
       "  </thead>\n",
       "  <tbody>\n",
       "    <tr>\n",
       "      <th>632</th>\n",
       "      <td>12</td>\n",
       "      <td>2020</td>\n",
       "      <td>610827500</td>\n",
       "      <td>0</td>\n",
       "      <td>1114</td>\n",
       "      <td>1</td>\n",
       "      <td>2259225</td>\n",
       "      <td>49.6</td>\n",
       "      <td>2.5</td>\n",
       "    </tr>\n",
       "    <tr>\n",
       "      <th>3498</th>\n",
       "      <td>0</td>\n",
       "      <td>2015</td>\n",
       "      <td>225905765</td>\n",
       "      <td>0</td>\n",
       "      <td>55715</td>\n",
       "      <td>1</td>\n",
       "      <td>0</td>\n",
       "      <td>70.6</td>\n",
       "      <td>1.8</td>\n",
       "    </tr>\n",
       "    <tr>\n",
       "      <th>2917</th>\n",
       "      <td>17</td>\n",
       "      <td>2011</td>\n",
       "      <td>100242650</td>\n",
       "      <td>1</td>\n",
       "      <td>38000</td>\n",
       "      <td>3</td>\n",
       "      <td>2091875</td>\n",
       "      <td>51.4</td>\n",
       "      <td>1.3</td>\n",
       "    </tr>\n",
       "    <tr>\n",
       "      <th>5826</th>\n",
       "      <td>3</td>\n",
       "      <td>2019</td>\n",
       "      <td>490335500</td>\n",
       "      <td>0</td>\n",
       "      <td>3060</td>\n",
       "      <td>1</td>\n",
       "      <td>2259225</td>\n",
       "      <td>54.3</td>\n",
       "      <td>2.0</td>\n",
       "    </tr>\n",
       "    <tr>\n",
       "      <th>371</th>\n",
       "      <td>12</td>\n",
       "      <td>2014</td>\n",
       "      <td>184051530</td>\n",
       "      <td>1</td>\n",
       "      <td>50709</td>\n",
       "      <td>0</td>\n",
       "      <td>2510250</td>\n",
       "      <td>53.0</td>\n",
       "      <td>2.0</td>\n",
       "    </tr>\n",
       "  </tbody>\n",
       "</table>\n",
       "</div>"
      ],
      "text/plain": [
       "      model  year      price  transmission  mileage  fuelType      tax   mpg  \\\n",
       "632      12  2020  610827500             0     1114         1  2259225  49.6   \n",
       "3498      0  2015  225905765             0    55715         1        0  70.6   \n",
       "2917     17  2011  100242650             1    38000         3  2091875  51.4   \n",
       "5826      3  2019  490335500             0     3060         1  2259225  54.3   \n",
       "371      12  2014  184051530             1    50709         0  2510250  53.0   \n",
       "\n",
       "      engineSize  \n",
       "632          2.5  \n",
       "3498         1.8  \n",
       "2917         1.3  \n",
       "5826         2.0  \n",
       "371          2.0  "
      ]
     },
     "execution_count": 22,
     "metadata": {},
     "output_type": "execute_result"
    }
   ],
   "source": [
    "# Melihat label encoding yang telah dilakukan\n",
    "df.sample(5)"
   ]
  },
  {
   "cell_type": "markdown",
   "metadata": {},
   "source": [
    "## 5. Preparation Data"
   ]
  },
  {
   "cell_type": "markdown",
   "metadata": {},
   "source": [
    "Tahapan ini digunakan untuk memisahkan antara dataTrain(x) dan juga dataTesting(y)"
   ]
  },
  {
   "cell_type": "code",
   "execution_count": null,
   "metadata": {},
   "outputs": [
    {
     "data": {
      "text/plain": [
       "((6699, 8), (6699,))"
      ]
     },
     "execution_count": 23,
     "metadata": {},
     "output_type": "execute_result"
    }
   ],
   "source": [
    "# Menentukan daftar fitur (independent variables) yang akan digunakan sebagai input untuk model prediksi\n",
    "features = ['model', 'year', 'transmission', 'mileage', 'fuelType', 'tax', 'mpg', 'engineSize']\n",
    "\n",
    "# Mengambil kolom-kolom dari DataFrame sesuai dengan daftar fitur untuk digunakan sebagai X (input)\n",
    "x = df[features]\n",
    "\n",
    "# Mengambil kolom target ('price') dari DataFrame untuk digunakan sebagai Y (output/label)\n",
    "y = df['price']\n",
    "\n",
    "# Mengecek bentuk (dimensi) dari X dan Y\n",
    "x.shape, y.shape\n"
   ]
  },
  {
   "cell_type": "code",
   "execution_count": 26,
   "metadata": {},
   "outputs": [
    {
     "data": {
      "text/plain": [
       "(1340,)"
      ]
     },
     "execution_count": 26,
     "metadata": {},
     "output_type": "execute_result"
    }
   ],
   "source": [
    "from sklearn.model_selection import train_test_split\n",
    "\n",
    "# Membagi data menjadi data latih dan data uji.\n",
    "# Data input (x) dan target (y) dipisahkan berdasarkan proporsi test_size=0.2.\n",
    "# 80% data digunakan untuk pelatihan, dan 20% untuk pengujian.\n",
    "# Parameter random_state=42 digunakan agar pembagian data konsisten setiap kali kode dijalankan.\n",
    "X_train, X_test, y_train, y_test = train_test_split(x, y, test_size=0.2, random_state=42)\n",
    "\n",
    "# Mengecek jumlah baris pada data target pengujian (y_test).\n",
    "# Bentuknya berupa tuple yang menunjukkan jumlah baris (contoh: (200,) jika 20% data uji dari 1000 baris total).\n",
    "y_test.shape\n"
   ]
  },
  {
   "cell_type": "markdown",
   "metadata": {},
   "source": [
    "## 6. Training & Evaluation Data"
   ]
  },
  {
   "cell_type": "code",
   "execution_count": null,
   "metadata": {},
   "outputs": [],
   "source": [
    "# kita akan menerapkan algoritma Linear Regression\n",
    "\n",
    "from sklearn.linear_model import LinearRegression\n",
    "\n",
    "# Membuat objek model Linear Regression dari pustaka scikit-learn\n",
    "lr = LinearRegression()\n",
    "\n",
    "# Melatih model menggunakan data latih (X_train sebagai input, y_train sebagai target/label)\n",
    "# Model akan mempelajari hubungan antara fitur (X_train) dan target (y_train)\n",
    "lr.fit(X_train, y_train)\n",
    "\n",
    "# Menggunakan model yang sudah dilatih untuk memprediksi data uji (X_test sebagai input)\n",
    "# Hasil prediksi akan disimpan dalam variabel 'pred', yang berisi nilai-nilai harga mobil hasil prediksi\n",
    "pred = lr.predict(X_test)\n"
   ]
  },
  {
   "cell_type": "code",
   "execution_count": 33,
   "metadata": {},
   "outputs": [
    {
     "name": "stdout",
     "output_type": "stream",
     "text": [
      "Akurasi model Regresi Linear Berganda Adalah: 0.7909694669635874\n"
     ]
    }
   ],
   "source": [
    "# Menghitung skor akurasi model menggunakan data uji\n",
    "# Metode .score() mengevaluasi model dengan menghitung koefisien determinasi (R^2 score)\n",
    "# Inputnya adalah X_test (fitur data uji) dan y_test (target sebenarnya dari data uji)\n",
    "score = lr.score(X_test, y_test)\n",
    "\n",
    "# Menampilkan skor akurasi model dalam bentuk persentase R^2 score\n",
    "# Semakin tinggi nilai R^2 (maksimal 1), semakin baik model memprediksi data uji\n",
    "print(f\"Akurasi model Regresi Linear Berganda Adalah:\", score)\n"
   ]
  },
  {
   "cell_type": "code",
   "execution_count": 35,
   "metadata": {},
   "outputs": [
    {
     "name": "stdout",
     "output_type": "stream",
     "text": [
      "MAE: 34642875.7901298\n",
      "MSE: 2423503440196437.5\n",
      "RMSE: 49229091.4012887\n"
     ]
    }
   ],
   "source": [
    "# Evaluasi untuk melihat hasil pelatihan data kita\n",
    "\n",
    "from sklearn import metrics\n",
    "\n",
    "# Menghitung Mean Absolute Error (MAE)\n",
    "# MAE adalah rata-rata kesalahan absolut antara nilai prediksi (pred) dan nilai sebenarnya (y_test).\n",
    "# Nilai MAE lebih kecil menunjukkan model lebih akurat.\n",
    "print('MAE:', metrics.mean_absolute_error(y_test, pred))\n",
    "\n",
    "# Menghitung Mean Squared Error (MSE)\n",
    "# MSE adalah rata-rata kuadrat dari kesalahan antara nilai prediksi dan nilai sebenarnya.\n",
    "# MSE lebih kecil menunjukkan model lebih akurat, tetapi nilai MSE sensitif terhadap outlier.\n",
    "print('MSE:', metrics.mean_squared_error(y_test, pred))\n",
    "\n",
    "# Menghitung Root Mean Squared Error (RMSE)\n",
    "# RMSE adalah akar dari MSE, memberikan ukuran kesalahan dalam skala yang sama dengan target asli (y_test).\n",
    "# Nilai RMSE yang lebih kecil menunjukkan model lebih akurat.\n",
    "print('RMSE:', np.sqrt(metrics.mean_squared_error(y_test, pred)))\n"
   ]
  },
  {
   "cell_type": "markdown",
   "metadata": {},
   "source": [
    "## 7. Testing"
   ]
  },
  {
   "cell_type": "code",
   "execution_count": null,
   "metadata": {},
   "outputs": [
    {
     "data": {
      "text/html": [
       "<div>\n",
       "<style scoped>\n",
       "    .dataframe tbody tr th:only-of-type {\n",
       "        vertical-align: middle;\n",
       "    }\n",
       "\n",
       "    .dataframe tbody tr th {\n",
       "        vertical-align: top;\n",
       "    }\n",
       "\n",
       "    .dataframe thead th {\n",
       "        text-align: right;\n",
       "    }\n",
       "</style>\n",
       "<table border=\"1\" class=\"dataframe\">\n",
       "  <thead>\n",
       "    <tr style=\"text-align: right;\">\n",
       "      <th></th>\n",
       "      <th>model</th>\n",
       "      <th>year</th>\n",
       "      <th>transmission</th>\n",
       "      <th>mileage</th>\n",
       "      <th>fuelType</th>\n",
       "      <th>tax</th>\n",
       "      <th>mpg</th>\n",
       "      <th>engineSize</th>\n",
       "    </tr>\n",
       "  </thead>\n",
       "  <tbody>\n",
       "    <tr>\n",
       "      <th>0</th>\n",
       "      <td>17</td>\n",
       "      <td>2018</td>\n",
       "      <td>0</td>\n",
       "      <td>1401</td>\n",
       "      <td>3</td>\n",
       "      <td>2345180</td>\n",
       "      <td>76.3</td>\n",
       "      <td>1.5</td>\n",
       "    </tr>\n",
       "  </tbody>\n",
       "</table>\n",
       "</div>"
      ],
      "text/plain": [
       "   model  year  transmission  mileage  fuelType      tax   mpg  engineSize\n",
       "0     17  2018             0     1401         3  2345180  76.3         1.5"
      ]
     },
     "execution_count": 60,
     "metadata": {},
     "output_type": "execute_result"
    }
   ],
   "source": [
    "# Membuat sample data\n",
    "# Data ini adalah contoh input untuk memprediksi harga mobil berdasarkan fitur-fiturnya.\n",
    "# Atribut \"harga\" tidak dimasukkan karena itu target prediksi.\n",
    "# Urutan fitur harus sesuai dengan urutan kolom pada DataFrame yang digunakan untuk pelatihan model.\n",
    "input_data = {\n",
    "    \"model\": \" Yaris\",            # Model mobil (kategori)\n",
    "    \"year\": 2019,                # Tahun pembuatan (numerik)\n",
    "    \"transmission\": \"Automatic\", # Jenis transmisi (kategori)\n",
    "    \"mileage\": 1401,             # Jarak tempuh (numerik)\n",
    "    \"fuelType\": \"Petrol\",        # Jenis bahan bakar (kategori)\n",
    "    \"tax\": 2345180,              # Pajak tahunan (numerik)\n",
    "    \"mpg\": 76.3,                 # Efisiensi bahan bakar dalam mil per galon (numerik)\n",
    "    \"engineSize\": 1.5            # Ukuran mesin (numerik)\n",
    "}\n",
    "\n",
    "# Mengubah input_data menjadi DataFrame\n",
    "# DataFrame mempermudah manipulasi data untuk kompatibilitas dengan model.\n",
    "input_df = pd.DataFrame([input_data])\n",
    "\n",
    "# Melakukan label encoding pada kolom kategori\n",
    "# Model, jenis transmisi, dan jenis bahan bakar harus diubah menjadi nilai numerik agar dapat diproses oleh model prediktif.\n",
    "input_df['model'] = m_endoder.transform(input_df['model'])           # Encode model mobil\n",
    "input_df['transmission'] = t_endoder.transform(input_df['transmission']) # Encode jenis transmisi\n",
    "input_df['fuelType'] = f_endoder.transform(input_df['fuelType'])         # Encode jenis bahan bakar\n",
    "\n",
    "# Menampilkan DataFrame yang telah di-encode\n",
    "input_df"
   ]
  },
  {
   "cell_type": "code",
   "execution_count": 61,
   "metadata": {},
   "outputs": [
    {
     "name": "stdout",
     "output_type": "stream",
     "text": [
      "Estimasi Harga Mobil : Rp. 246291886.98\n"
     ]
    }
   ],
   "source": [
    "# Melakukan prediksi harga mobil dengan sample data input\n",
    "prediction = lr.predict(input_df)\n",
    "\n",
    "# Membulatkan hasil prediksi menjadi 2 angka desimal\n",
    "prediction_formatted = round(prediction[0], 2)\n",
    "\n",
    "# Menampilkan hasil prediksi\n",
    "print(\"Estimasi Harga Mobil : Rp.\", prediction_formatted)"
   ]
  },
  {
   "cell_type": "code",
   "execution_count": 59,
   "metadata": {},
   "outputs": [
    {
     "name": "stdout",
     "output_type": "stream",
     "text": [
      "Estimasi Harga Mobil : Rp, 259.897.410,21\n"
     ]
    }
   ],
   "source": [
    "# Memformat hasil prediksi menjadi format Rupiah\n",
    "# Gunakan format pemisah ribuan dan desimal\n",
    "prediction_rupiah = f\"Rp. {prediction_formatted:,.2f}\".replace(\",\", \"X\").replace(\".\", \",\").replace(\"X\", \".\")\n",
    "\n",
    "# Menampilkan hasil prediksi\n",
    "print(\"Estimasi Harga Mobil :\", prediction_rupiah)\n"
   ]
  }
 ],
 "metadata": {
  "kernelspec": {
   "display_name": "Python 3",
   "language": "python",
   "name": "python3"
  },
  "language_info": {
   "codemirror_mode": {
    "name": "ipython",
    "version": 3
   },
   "file_extension": ".py",
   "mimetype": "text/x-python",
   "name": "python",
   "nbconvert_exporter": "python",
   "pygments_lexer": "ipython3",
   "version": "3.12.1"
  }
 },
 "nbformat": 4,
 "nbformat_minor": 2
}
